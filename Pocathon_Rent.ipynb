{
 "cells": [
  {
   "cell_type": "code",
   "execution_count": 15,
   "metadata": {},
   "outputs": [],
   "source": [
    "import numpy as np\n",
    "import pandas as pd\n",
    "import matplotlib.pyplot as plt\n",
    "\n",
    "df = pd.read_csv(r'C:\\Users\\P10414651\\Documents\\Official\\Pocathon 2019\\Dataset\\HousingRent.csv')"
   ]
  },
  {
   "cell_type": "code",
   "execution_count": 16,
   "metadata": {},
   "outputs": [
    {
     "data": {
      "text/html": [
       "<div>\n",
       "<style scoped>\n",
       "    .dataframe tbody tr th:only-of-type {\n",
       "        vertical-align: middle;\n",
       "    }\n",
       "\n",
       "    .dataframe tbody tr th {\n",
       "        vertical-align: top;\n",
       "    }\n",
       "\n",
       "    .dataframe thead th {\n",
       "        text-align: right;\n",
       "    }\n",
       "</style>\n",
       "<table border=\"1\" class=\"dataframe\">\n",
       "  <thead>\n",
       "    <tr style=\"text-align: right;\">\n",
       "      <th></th>\n",
       "      <th>Location ref</th>\n",
       "      <th>Rent group</th>\n",
       "      <th>Rent amt</th>\n",
       "      <th>Tenant income</th>\n",
       "      <th>Tenant working</th>\n",
       "      <th>Occupants</th>\n",
       "      <th>No of adult tenants</th>\n",
       "      <th>No of child tenants</th>\n",
       "      <th>Arears history</th>\n",
       "      <th>Arears reason</th>\n",
       "      <th>Reported date</th>\n",
       "      <th>Curr balance</th>\n",
       "      <th>Prev balance</th>\n",
       "    </tr>\n",
       "  </thead>\n",
       "  <tbody>\n",
       "    <tr>\n",
       "      <th>0</th>\n",
       "      <td>1001</td>\n",
       "      <td>W</td>\n",
       "      <td>125</td>\n",
       "      <td>10.0</td>\n",
       "      <td>N</td>\n",
       "      <td>4</td>\n",
       "      <td>2</td>\n",
       "      <td>4</td>\n",
       "      <td>Y</td>\n",
       "      <td>Divorced</td>\n",
       "      <td>3/15/2010</td>\n",
       "      <td>100.0</td>\n",
       "      <td>20.0</td>\n",
       "    </tr>\n",
       "    <tr>\n",
       "      <th>1</th>\n",
       "      <td>1002</td>\n",
       "      <td>M</td>\n",
       "      <td>500</td>\n",
       "      <td>500.0</td>\n",
       "      <td>Y</td>\n",
       "      <td>5</td>\n",
       "      <td>1</td>\n",
       "      <td>4</td>\n",
       "      <td>Y</td>\n",
       "      <td>Income shortage</td>\n",
       "      <td>28/2/2011</td>\n",
       "      <td>400.0</td>\n",
       "      <td>200.0</td>\n",
       "    </tr>\n",
       "    <tr>\n",
       "      <th>2</th>\n",
       "      <td>100300</td>\n",
       "      <td>B</td>\n",
       "      <td>250</td>\n",
       "      <td>500.0</td>\n",
       "      <td>Y</td>\n",
       "      <td>8</td>\n",
       "      <td>2</td>\n",
       "      <td>6</td>\n",
       "      <td>Y</td>\n",
       "      <td>Lost job</td>\n",
       "      <td>15/01/2010</td>\n",
       "      <td>200.0</td>\n",
       "      <td>100.0</td>\n",
       "    </tr>\n",
       "    <tr>\n",
       "      <th>3</th>\n",
       "      <td>1004</td>\n",
       "      <td>D</td>\n",
       "      <td>10</td>\n",
       "      <td>600.0</td>\n",
       "      <td>Y</td>\n",
       "      <td>1</td>\n",
       "      <td>1</td>\n",
       "      <td>0</td>\n",
       "      <td>N</td>\n",
       "      <td>NaN</td>\n",
       "      <td>NaN</td>\n",
       "      <td>0.0</td>\n",
       "      <td>0.0</td>\n",
       "    </tr>\n",
       "    <tr>\n",
       "      <th>4</th>\n",
       "      <td>1005</td>\n",
       "      <td>M</td>\n",
       "      <td>200</td>\n",
       "      <td>300.0</td>\n",
       "      <td>Y</td>\n",
       "      <td>7</td>\n",
       "      <td>4</td>\n",
       "      <td>3</td>\n",
       "      <td>Y</td>\n",
       "      <td>Unknown</td>\n",
       "      <td>16/05/2011</td>\n",
       "      <td>250.0</td>\n",
       "      <td>155.0</td>\n",
       "    </tr>\n",
       "  </tbody>\n",
       "</table>\n",
       "</div>"
      ],
      "text/plain": [
       "   Location ref Rent group  Rent amt  Tenant income Tenant working  Occupants  \\\n",
       "0          1001          W       125           10.0              N          4   \n",
       "1          1002          M       500          500.0              Y          5   \n",
       "2        100300          B       250          500.0              Y          8   \n",
       "3          1004          D        10          600.0              Y          1   \n",
       "4          1005          M       200          300.0              Y          7   \n",
       "\n",
       "   No of adult tenants  No of child tenants Arears history    Arears reason  \\\n",
       "0                    2                    4              Y         Divorced   \n",
       "1                    1                    4              Y  Income shortage   \n",
       "2                    2                    6              Y         Lost job   \n",
       "3                    1                    0              N              NaN   \n",
       "4                    4                    3              Y          Unknown   \n",
       "\n",
       "  Reported date  Curr balance  Prev balance  \n",
       "0     3/15/2010         100.0          20.0  \n",
       "1     28/2/2011         400.0         200.0  \n",
       "2    15/01/2010         200.0         100.0  \n",
       "3           NaN           0.0           0.0  \n",
       "4    16/05/2011         250.0         155.0  "
      ]
     },
     "execution_count": 16,
     "metadata": {},
     "output_type": "execute_result"
    }
   ],
   "source": [
    "df.head()"
   ]
  },
  {
   "cell_type": "code",
   "execution_count": 19,
   "metadata": {},
   "outputs": [
    {
     "data": {
      "text/plain": [
       "<matplotlib.axes._subplots.AxesSubplot at 0x1ff2adcdc88>"
      ]
     },
     "execution_count": 19,
     "metadata": {},
     "output_type": "execute_result"
    },
    {
     "data": {
      "image/png": "[encoded data removed]",
      "text/plain": [
       "<Figure size 432x288 with 1 Axes>"
      ]
     },
     "metadata": {
      "needs_background": "light"
     },
     "output_type": "display_data"
    }
   ],
   "source": [
    "df['Arears history'].value_counts().plot.bar()"
   ]
  },
  {
   "cell_type": "code",
   "execution_count": 20,
   "metadata": {},
   "outputs": [
    {
     "data": {
      "text/plain": [
       "Y    445\n",
       "N     10\n",
       "Name: Arears history, dtype: int64"
      ]
     },
     "execution_count": 20,
     "metadata": {},
     "output_type": "execute_result"
    }
   ],
   "source": [
    "df['Arears history'].value_counts()"
   ]
  },
  {
   "cell_type": "code",
   "execution_count": 21,
   "metadata": {},
   "outputs": [],
   "source": [
    "df_Y = df[df['Arears history']=='Y']\n",
    "df_N = df[df['Arears history']=='N']"
   ]
  },
  {
   "cell_type": "code",
   "execution_count": 22,
   "metadata": {},
   "outputs": [],
   "source": [
    "count_Y,count_N = df['Arears history'].value_counts()\n",
    "df_Y_under = df_Y.sample(count_N)"
   ]
  },
  {
   "cell_type": "code",
   "execution_count": 23,
   "metadata": {},
   "outputs": [],
   "source": [
    "df_under = pd.concat([df_Y_under,df_N],axis=0)"
   ]
  },
  {
   "cell_type": "code",
   "execution_count": 24,
   "metadata": {},
   "outputs": [
    {
     "data": {
      "text/plain": [
       "(20, 13)"
      ]
     },
     "execution_count": 24,
     "metadata": {},
     "output_type": "execute_result"
    }
   ],
   "source": [
    "df_under.shape"
   ]
  },
  {
   "cell_type": "code",
   "execution_count": 25,
   "metadata": {},
   "outputs": [
    {
     "data": {
      "text/plain": [
       "<matplotlib.axes._subplots.AxesSubplot at 0x1ff2afe0da0>"
      ]
     },
     "execution_count": 25,
     "metadata": {},
     "output_type": "execute_result"
    },
    {
     "data": {
      "image/png": "[encoded data removed]",
      "text/plain": [
       "<Figure size 432x288 with 1 Axes>"
      ]
     },
     "metadata": {
      "needs_background": "light"
     },
     "output_type": "display_data"
    }
   ],
   "source": [
    "df_under['Arears history'].value_counts().plot.bar()"
   ]
  },
  {
   "cell_type": "code",
   "execution_count": 26,
   "metadata": {},
   "outputs": [
    {
     "data": {
      "text/plain": [
       "N    10\n",
       "Y    10\n",
       "Name: Arears history, dtype: int64"
      ]
     },
     "execution_count": 26,
     "metadata": {},
     "output_type": "execute_result"
    }
   ],
   "source": [
    "df_under['Arears history'].value_counts()"
   ]
  },
  {
   "cell_type": "code",
   "execution_count": 27,
   "metadata": {},
   "outputs": [],
   "source": [
    "df_N_over = df_N.sample(count_Y, replace = True)"
   ]
  },
  {
   "cell_type": "code",
   "execution_count": 28,
   "metadata": {},
   "outputs": [
    {
     "data": {
      "text/plain": [
       "(445, 13)"
      ]
     },
     "execution_count": 28,
     "metadata": {},
     "output_type": "execute_result"
    }
   ],
   "source": [
    "df_N_over.shape"
   ]
  },
  {
   "cell_type": "code",
   "execution_count": 29,
   "metadata": {},
   "outputs": [
    {
     "data": {
      "text/plain": [
       "(445, 13)"
      ]
     },
     "execution_count": 29,
     "metadata": {},
     "output_type": "execute_result"
    }
   ],
   "source": [
    "df_Y.shape"
   ]
  },
  {
   "cell_type": "code",
   "execution_count": 30,
   "metadata": {},
   "outputs": [],
   "source": [
    "df_over = pd.concat([df_Y,df_N_over],axis=0)"
   ]
  },
  {
   "cell_type": "code",
   "execution_count": 31,
   "metadata": {},
   "outputs": [
    {
     "data": {
      "text/plain": [
       "(890, 13)"
      ]
     },
     "execution_count": 31,
     "metadata": {},
     "output_type": "execute_result"
    }
   ],
   "source": [
    "df_over.shape"
   ]
  },
  {
   "cell_type": "code",
   "execution_count": 32,
   "metadata": {},
   "outputs": [
    {
     "data": {
      "text/plain": [
       "(20, 13)"
      ]
     },
     "execution_count": 32,
     "metadata": {},
     "output_type": "execute_result"
    }
   ],
   "source": [
    "df_under.shape"
   ]
  },
  {
   "cell_type": "code",
   "execution_count": null,
   "metadata": {},
   "outputs": [],
   "source": [
    "Now we have two dataframes , One is under-sampled and the other one is over-samples. \n",
    "We have solved the issue of class imbalance in this dataset.\n",
    "\n",
    "But Re-sampling has disadvantages as well like under-sampling might lead to information loss and over-sampling might lead to over-fitting.\n",
    "\n",
    "So, Let us see how they perform using different algorithms after doing EDA for over-sampled data-set and then let's head over to under-sampled one"
   ]
  },
  {
   "cell_type": "code",
   "execution_count": 34,
   "metadata": {},
   "outputs": [
    {
     "data": {
      "text/html": [
       "<div>\n",
       "<style scoped>\n",
       "    .dataframe tbody tr th:only-of-type {\n",
       "        vertical-align: middle;\n",
       "    }\n",
       "\n",
       "    .dataframe tbody tr th {\n",
       "        vertical-align: top;\n",
       "    }\n",
       "\n",
       "    .dataframe thead th {\n",
       "        text-align: right;\n",
       "    }\n",
       "</style>\n",
       "<table border=\"1\" class=\"dataframe\">\n",
       "  <thead>\n",
       "    <tr style=\"text-align: right;\">\n",
       "      <th></th>\n",
       "      <th>Location ref</th>\n",
       "      <th>Rent amt</th>\n",
       "      <th>Tenant income</th>\n",
       "      <th>Occupants</th>\n",
       "      <th>No of adult tenants</th>\n",
       "      <th>No of child tenants</th>\n",
       "      <th>Curr balance</th>\n",
       "      <th>Prev balance</th>\n",
       "    </tr>\n",
       "  </thead>\n",
       "  <tbody>\n",
       "    <tr>\n",
       "      <th>count</th>\n",
       "      <td>8.900000e+02</td>\n",
       "      <td>890.000000</td>\n",
       "      <td>888.000000</td>\n",
       "      <td>890.000000</td>\n",
       "      <td>890.000000</td>\n",
       "      <td>890.000000</td>\n",
       "      <td>618.000000</td>\n",
       "      <td>618.000000</td>\n",
       "    </tr>\n",
       "    <tr>\n",
       "      <th>mean</th>\n",
       "      <td>1.959414e+06</td>\n",
       "      <td>51.367416</td>\n",
       "      <td>281.531532</td>\n",
       "      <td>3.123596</td>\n",
       "      <td>1.176404</td>\n",
       "      <td>1.980899</td>\n",
       "      <td>180.389968</td>\n",
       "      <td>362.920712</td>\n",
       "    </tr>\n",
       "    <tr>\n",
       "      <th>std</th>\n",
       "      <td>3.808353e+06</td>\n",
       "      <td>88.261173</td>\n",
       "      <td>267.182842</td>\n",
       "      <td>2.210621</td>\n",
       "      <td>0.676875</td>\n",
       "      <td>2.022560</td>\n",
       "      <td>124.874076</td>\n",
       "      <td>282.764081</td>\n",
       "    </tr>\n",
       "    <tr>\n",
       "      <th>min</th>\n",
       "      <td>1.001000e+03</td>\n",
       "      <td>10.000000</td>\n",
       "      <td>0.000000</td>\n",
       "      <td>1.000000</td>\n",
       "      <td>1.000000</td>\n",
       "      <td>0.000000</td>\n",
       "      <td>0.000000</td>\n",
       "      <td>0.000000</td>\n",
       "    </tr>\n",
       "    <tr>\n",
       "      <th>25%</th>\n",
       "      <td>1.004030e+05</td>\n",
       "      <td>10.000000</td>\n",
       "      <td>0.000000</td>\n",
       "      <td>1.000000</td>\n",
       "      <td>1.000000</td>\n",
       "      <td>0.000000</td>\n",
       "      <td>0.000000</td>\n",
       "      <td>0.000000</td>\n",
       "    </tr>\n",
       "    <tr>\n",
       "      <th>50%</th>\n",
       "      <td>1.008080e+05</td>\n",
       "      <td>12.500000</td>\n",
       "      <td>406.000000</td>\n",
       "      <td>2.500000</td>\n",
       "      <td>1.000000</td>\n",
       "      <td>1.000000</td>\n",
       "      <td>256.000000</td>\n",
       "      <td>600.000000</td>\n",
       "    </tr>\n",
       "    <tr>\n",
       "      <th>75%</th>\n",
       "      <td>1.001844e+06</td>\n",
       "      <td>55.000000</td>\n",
       "      <td>480.000000</td>\n",
       "      <td>5.000000</td>\n",
       "      <td>1.000000</td>\n",
       "      <td>4.000000</td>\n",
       "      <td>256.000000</td>\n",
       "      <td>600.000000</td>\n",
       "    </tr>\n",
       "    <tr>\n",
       "      <th>max</th>\n",
       "      <td>1.008062e+07</td>\n",
       "      <td>600.000000</td>\n",
       "      <td>700.000000</td>\n",
       "      <td>8.000000</td>\n",
       "      <td>5.000000</td>\n",
       "      <td>6.000000</td>\n",
       "      <td>650.000000</td>\n",
       "      <td>600.000000</td>\n",
       "    </tr>\n",
       "  </tbody>\n",
       "</table>\n",
       "</div>"
      ],
      "text/plain": [
       "       Location ref    Rent amt  Tenant income   Occupants  \\\n",
       "count  8.900000e+02  890.000000     888.000000  890.000000   \n",
       "mean   1.959414e+06   51.367416     281.531532    3.123596   \n",
       "std    3.808353e+06   88.261173     267.182842    2.210621   \n",
       "min    1.001000e+03   10.000000       0.000000    1.000000   \n",
       "25%    1.004030e+05   10.000000       0.000000    1.000000   \n",
       "50%    1.008080e+05   12.500000     406.000000    2.500000   \n",
       "75%    1.001844e+06   55.000000     480.000000    5.000000   \n",
       "max    1.008062e+07  600.000000     700.000000    8.000000   \n",
       "\n",
       "       No of adult tenants  No of child tenants  Curr balance  Prev balance  \n",
       "count           890.000000           890.000000    618.000000    618.000000  \n",
       "mean              1.176404             1.980899    180.389968    362.920712  \n",
       "std               0.676875             2.022560    124.874076    282.764081  \n",
       "min               1.000000             0.000000      0.000000      0.000000  \n",
       "25%               1.000000             0.000000      0.000000      0.000000  \n",
       "50%               1.000000             1.000000    256.000000    600.000000  \n",
       "75%               1.000000             4.000000    256.000000    600.000000  \n",
       "max               5.000000             6.000000    650.000000    600.000000  "
      ]
     },
     "execution_count": 34,
     "metadata": {},
     "output_type": "execute_result"
    }
   ],
   "source": [
    "df_over.describe()"
   ]
  },
  {
   "cell_type": "code",
   "execution_count": 35,
   "metadata": {},
   "outputs": [
    {
     "data": {
      "text/plain": [
       "Location ref             0\n",
       "Rent group               0\n",
       "Rent amt                 0\n",
       "Tenant income            2\n",
       "Tenant working           0\n",
       "Occupants                0\n",
       "No of adult tenants      0\n",
       "No of child tenants      0\n",
       "Arears history           0\n",
       "Arears reason          445\n",
       "Reported date          445\n",
       "Curr balance           272\n",
       "Prev balance           272\n",
       "dtype: int64"
      ]
     },
     "execution_count": 35,
     "metadata": {},
     "output_type": "execute_result"
    }
   ],
   "source": [
    "df_over.isnull().sum()"
   ]
  },
  {
   "cell_type": "code",
   "execution_count": 36,
   "metadata": {},
   "outputs": [
    {
     "data": {
      "text/plain": [
       "Location ref            0\n",
       "Rent group              0\n",
       "Rent amt                0\n",
       "Tenant income           0\n",
       "Tenant working          0\n",
       "Occupants               0\n",
       "No of adult tenants     0\n",
       "No of child tenants     0\n",
       "Arears history          0\n",
       "Arears reason          10\n",
       "Reported date          10\n",
       "Curr balance            6\n",
       "Prev balance            6\n",
       "dtype: int64"
      ]
     },
     "execution_count": 36,
     "metadata": {},
     "output_type": "execute_result"
    }
   ],
   "source": [
    "df_under.isnull().sum()"
   ]
  },
  {
   "cell_type": "code",
   "execution_count": 37,
   "metadata": {},
   "outputs": [],
   "source": [
    "df_over['Tenant income'].fillna(df_over['Tenant income'].mean(),inplace=True)\n",
    "df_over['Arears reason'].fillna(df_over['Arears reason'].mode()[0],inplace=True)\n",
    "df_over['Reported date'].fillna(df_over['Reported date'].mode()[0],inplace=True)\n",
    "df_over['Curr balance'].fillna(df_over['Curr balance'].mean(),inplace=True)\n",
    "df_over['Prev balance'].fillna(df_over['Prev balance'].mean(),inplace=True)\n",
    "\n",
    "df_under['Arears reason'].fillna(df_under['Arears reason'].mode()[0],inplace=True)\n",
    "df_under['Reported date'].fillna(df_under['Reported date'].mode()[0],inplace=True)\n",
    "df_under['Curr balance'].fillna(df_under['Curr balance'].mean(),inplace=True)\n",
    "df_under['Prev balance'].fillna(df_under['Prev balance'].mean(),inplace=True)\n",
    "\n",
    "df['Tenant income'].fillna(df['Tenant income'].mean(),inplace=True)\n",
    "df['Arears reason'].fillna(df['Arears reason'].mode()[0],inplace=True)\n",
    "df['Reported date'].fillna(df['Reported date'].mode()[0],inplace=True)\n",
    "df['Curr balance'].fillna(df['Curr balance'].mean(),inplace=True)\n",
    "df['Prev balance'].fillna(df['Prev balance'].mean(),inplace=True)\n"
   ]
  },
  {
   "cell_type": "code",
   "execution_count": 38,
   "metadata": {},
   "outputs": [
    {
     "data": {
      "text/plain": [
       "Location ref           0\n",
       "Rent group             0\n",
       "Rent amt               0\n",
       "Tenant income          0\n",
       "Tenant working         0\n",
       "Occupants              0\n",
       "No of adult tenants    0\n",
       "No of child tenants    0\n",
       "Arears history         0\n",
       "Arears reason          0\n",
       "Reported date          0\n",
       "Curr balance           0\n",
       "Prev balance           0\n",
       "dtype: int64"
      ]
     },
     "execution_count": 38,
     "metadata": {},
     "output_type": "execute_result"
    }
   ],
   "source": [
    "df_over.isnull().sum()"
   ]
  },
  {
   "cell_type": "code",
   "execution_count": 39,
   "metadata": {},
   "outputs": [
    {
     "data": {
      "text/plain": [
       "Location ref           0\n",
       "Rent group             0\n",
       "Rent amt               0\n",
       "Tenant income          0\n",
       "Tenant working         0\n",
       "Occupants              0\n",
       "No of adult tenants    0\n",
       "No of child tenants    0\n",
       "Arears history         0\n",
       "Arears reason          0\n",
       "Reported date          0\n",
       "Curr balance           0\n",
       "Prev balance           0\n",
       "dtype: int64"
      ]
     },
     "execution_count": 39,
     "metadata": {},
     "output_type": "execute_result"
    }
   ],
   "source": [
    "df_under.isnull().sum()"
   ]
  },
  {
   "cell_type": "code",
   "execution_count": 40,
   "metadata": {},
   "outputs": [
    {
     "data": {
      "text/plain": [
       "Location ref           0\n",
       "Rent group             0\n",
       "Rent amt               0\n",
       "Tenant income          0\n",
       "Tenant working         0\n",
       "Occupants              0\n",
       "No of adult tenants    0\n",
       "No of child tenants    0\n",
       "Arears history         0\n",
       "Arears reason          0\n",
       "Reported date          0\n",
       "Curr balance           0\n",
       "Prev balance           0\n",
       "dtype: int64"
      ]
     },
     "execution_count": 40,
     "metadata": {},
     "output_type": "execute_result"
    }
   ],
   "source": [
    "df.isnull().sum()"
   ]
  },
  {
   "cell_type": "code",
   "execution_count": 41,
   "metadata": {},
   "outputs": [],
   "source": [
    "df_over = df_over.iloc[:,1:]"
   ]
  },
  {
   "cell_type": "code",
   "execution_count": 42,
   "metadata": {},
   "outputs": [
    {
     "data": {
      "text/plain": [
       "D    819\n",
       "M     38\n",
       "W     21\n",
       "B     12\n",
       "Name: Rent group, dtype: int64"
      ]
     },
     "execution_count": 42,
     "metadata": {},
     "output_type": "execute_result"
    }
   ],
   "source": [
    "df_over['Rent group'].value_counts()"
   ]
  },
  {
   "cell_type": "code",
   "execution_count": 43,
   "metadata": {},
   "outputs": [
    {
     "data": {
      "text/plain": [
       "<matplotlib.axes._subplots.AxesSubplot at 0x1ff27611978>"
      ]
     },
     "execution_count": 43,
     "metadata": {},
     "output_type": "execute_result"
    },
    {
     "data": {
      "image/png": "[encoded data removed]",
      "text/plain": [
       "<Figure size 432x288 with 1 Axes>"
      ]
     },
     "metadata": {
      "needs_background": "light"
     },
     "output_type": "display_data"
    }
   ],
   "source": [
    "df_over['Rent group'].value_counts().plot.bar()"
   ]
  },
  {
   "cell_type": "code",
   "execution_count": 44,
   "metadata": {},
   "outputs": [
    {
     "data": {
      "text/plain": [
       "D    374\n",
       "M     38\n",
       "W     21\n",
       "B     12\n",
       "Name: Rent group, dtype: int64"
      ]
     },
     "execution_count": 44,
     "metadata": {},
     "output_type": "execute_result"
    }
   ],
   "source": [
    "df_over[df_over['Arears history']=='Y']['Rent group'].value_counts()"
   ]
  },
  {
   "cell_type": "code",
   "execution_count": 45,
   "metadata": {},
   "outputs": [
    {
     "data": {
      "text/plain": [
       "D    445\n",
       "Name: Rent group, dtype: int64"
      ]
     },
     "execution_count": 45,
     "metadata": {},
     "output_type": "execute_result"
    }
   ],
   "source": [
    "df_over[df_over['Arears history']=='N']['Rent group'].value_counts()"
   ]
  },
  {
   "cell_type": "code",
   "execution_count": 46,
   "metadata": {},
   "outputs": [
    {
     "data": {
      "text/plain": [
       "<matplotlib.axes._subplots.AxesSubplot at 0x1ff27645668>"
      ]
     },
     "execution_count": 46,
     "metadata": {},
     "output_type": "execute_result"
    },
    {
     "data": {
      "image/png": "[encoded data removed]",
      "text/plain": [
       "<Figure size 432x288 with 1 Axes>"
      ]
     },
     "metadata": {
      "needs_background": "light"
     },
     "output_type": "display_data"
    }
   ],
   "source": [
    "df_over[df_over['Arears history']=='Y']['Rent group'].value_counts().plot.bar()"
   ]
  },
  {
   "cell_type": "code",
   "execution_count": 47,
   "metadata": {},
   "outputs": [
    {
     "data": {
      "text/plain": [
       "<matplotlib.axes._subplots.AxesSubplot at 0x1ff276c86d8>"
      ]
     },
     "execution_count": 47,
     "metadata": {},
     "output_type": "execute_result"
    },
    {
     "data": {
      "image/png": "[encoded data removed]",
      "text/plain": [
       "<Figure size 432x288 with 1 Axes>"
      ]
     },
     "metadata": {
      "needs_background": "light"
     },
     "output_type": "display_data"
    }
   ],
   "source": [
    "df_over[df_over['Arears history']=='N']['Rent group'].value_counts().plot.bar()"
   ]
  },
  {
   "cell_type": "code",
   "execution_count": 48,
   "metadata": {},
   "outputs": [],
   "source": [
    "a=445/819*100"
   ]
  },
  {
   "cell_type": "code",
   "execution_count": 49,
   "metadata": {},
   "outputs": [
    {
     "name": "stdout",
     "output_type": "stream",
     "text": [
      "% of rent arears history by rent group: 54.33455433455433\n"
     ]
    }
   ],
   "source": [
    "print ('% of rent arears history by rent group:',a)"
   ]
  },
  {
   "cell_type": "code",
   "execution_count": 50,
   "metadata": {},
   "outputs": [
    {
     "data": {
      "text/plain": [
       "10     445\n",
       "55     360\n",
       "125     21\n",
       "500     15\n",
       "200     14\n",
       "600      7\n",
       "245      5\n",
       "60       5\n",
       "58       5\n",
       "220      2\n",
       "250      2\n",
       "240      1\n",
       "235      1\n",
       "230      1\n",
       "300      1\n",
       "63       1\n",
       "400      1\n",
       "54       1\n",
       "50       1\n",
       "15       1\n",
       "Name: Rent amt, dtype: int64"
      ]
     },
     "execution_count": 50,
     "metadata": {},
     "output_type": "execute_result"
    }
   ],
   "source": [
    "df_over['Rent amt'].value_counts()"
   ]
  },
  {
   "cell_type": "code",
   "execution_count": 51,
   "metadata": {},
   "outputs": [
    {
     "data": {
      "text/plain": [
       "<matplotlib.axes._subplots.AxesSubplot at 0x1ff27719080>"
      ]
     },
     "execution_count": 51,
     "metadata": {},
     "output_type": "execute_result"
    },
    {
     "data": {
      "image/png": "[encoded data removed]",
      "text/plain": [
       "<Figure size 432x288 with 1 Axes>"
      ]
     },
     "metadata": {
      "needs_background": "light"
     },
     "output_type": "display_data"
    }
   ],
   "source": [
    "df_over['Rent amt'].value_counts().plot.bar()"
   ]
  },
  {
   "cell_type": "code",
   "execution_count": 53,
   "metadata": {},
   "outputs": [
    {
     "data": {
      "text/plain": [
       "55     360\n",
       "125     21\n",
       "500     15\n",
       "200     14\n",
       "600      7\n",
       "245      5\n",
       "60       5\n",
       "58       5\n",
       "220      2\n",
       "250      2\n",
       "240      1\n",
       "235      1\n",
       "230      1\n",
       "400      1\n",
       "63       1\n",
       "300      1\n",
       "54       1\n",
       "50       1\n",
       "15       1\n",
       "Name: Rent amt, dtype: int64"
      ]
     },
     "execution_count": 53,
     "metadata": {},
     "output_type": "execute_result"
    }
   ],
   "source": [
    "df_over[df_over['Arears history']=='Y']['Rent amt'].value_counts()"
   ]
  },
  {
   "cell_type": "code",
   "execution_count": 54,
   "metadata": {},
   "outputs": [
    {
     "data": {
      "text/plain": [
       "10    445\n",
       "Name: Rent amt, dtype: int64"
      ]
     },
     "execution_count": 54,
     "metadata": {},
     "output_type": "execute_result"
    }
   ],
   "source": [
    "df_over[df_over['Arears history']=='N']['Rent amt'].value_counts()"
   ]
  },
  {
   "cell_type": "code",
   "execution_count": 55,
   "metadata": {},
   "outputs": [
    {
     "data": {
      "text/plain": [
       "0.000000      361\n",
       "462.000000     95\n",
       "406.000000     78\n",
       "580.000000     54\n",
       "460.000000     48\n",
       "670.000000     48\n",
       "480.000000     43\n",
       "700.000000     43\n",
       "600.000000     36\n",
       "500.000000      9\n",
       "300.000000      8\n",
       "1.000000        4\n",
       "11.000000       4\n",
       "2.000000        4\n",
       "10.000000       4\n",
       "12.000000       3\n",
       "20.000000       3\n",
       "13.000000       3\n",
       "301.000000      2\n",
       "309.000000      2\n",
       "507.000000      2\n",
       "506.000000      2\n",
       "502.000000      2\n",
       "302.000000      2\n",
       "15.000000       2\n",
       "400.000000      2\n",
       "14.000000       2\n",
       "16.000000       2\n",
       "23.000000       2\n",
       "31.000000       2\n",
       "401.000000      2\n",
       "501.000000      2\n",
       "308.000000      2\n",
       "24.000000       2\n",
       "402.000000      2\n",
       "281.531532      2\n",
       "18.000000       1\n",
       "22.000000       1\n",
       "9.000000        1\n",
       "30.000000       1\n",
       "8.000000        1\n",
       "200.000000      1\n",
       "Name: Tenant income, dtype: int64"
      ]
     },
     "execution_count": 55,
     "metadata": {},
     "output_type": "execute_result"
    }
   ],
   "source": [
    "df_over['Tenant income'].value_counts()"
   ]
  },
  {
   "cell_type": "code",
   "execution_count": 56,
   "metadata": {},
   "outputs": [
    {
     "data": {
      "text/plain": [
       "0.000000      361\n",
       "500.000000      9\n",
       "300.000000      8\n",
       "10.000000       4\n",
       "11.000000       4\n",
       "2.000000        4\n",
       "1.000000        4\n",
       "12.000000       3\n",
       "20.000000       3\n",
       "13.000000       3\n",
       "507.000000      2\n",
       "15.000000       2\n",
       "400.000000      2\n",
       "14.000000       2\n",
       "16.000000       2\n",
       "281.531532      2\n",
       "301.000000      2\n",
       "309.000000      2\n",
       "401.000000      2\n",
       "302.000000      2\n",
       "502.000000      2\n",
       "23.000000       2\n",
       "31.000000       2\n",
       "308.000000      2\n",
       "402.000000      2\n",
       "506.000000      2\n",
       "24.000000       2\n",
       "501.000000      2\n",
       "30.000000       1\n",
       "8.000000        1\n",
       "200.000000      1\n",
       "18.000000       1\n",
       "22.000000       1\n",
       "9.000000        1\n",
       "Name: Tenant income, dtype: int64"
      ]
     },
     "execution_count": 56,
     "metadata": {},
     "output_type": "execute_result"
    }
   ],
   "source": [
    "df_over[df_over['Arears history']=='Y']['Tenant income'].value_counts()"
   ]
  },
  {
   "cell_type": "code",
   "execution_count": 57,
   "metadata": {},
   "outputs": [
    {
     "data": {
      "text/plain": [
       "462.0    95\n",
       "406.0    78\n",
       "580.0    54\n",
       "670.0    48\n",
       "460.0    48\n",
       "480.0    43\n",
       "700.0    43\n",
       "600.0    36\n",
       "Name: Tenant income, dtype: int64"
      ]
     },
     "execution_count": 57,
     "metadata": {},
     "output_type": "execute_result"
    }
   ],
   "source": [
    "df_over[df_over['Arears history']=='N']['Tenant income'].value_counts()"
   ]
  },
  {
   "cell_type": "code",
   "execution_count": 58,
   "metadata": {},
   "outputs": [
    {
     "data": {
      "text/plain": [
       "Y    831\n",
       "N     59\n",
       "Name: Tenant working, dtype: int64"
      ]
     },
     "execution_count": 58,
     "metadata": {},
     "output_type": "execute_result"
    }
   ],
   "source": [
    "df_over['Tenant working'].value_counts()"
   ]
  },
  {
   "cell_type": "code",
   "execution_count": 59,
   "metadata": {},
   "outputs": [
    {
     "data": {
      "text/plain": [
       "<matplotlib.axes._subplots.AxesSubplot at 0x1ff287c50f0>"
      ]
     },
     "execution_count": 59,
     "metadata": {},
     "output_type": "execute_result"
    },
    {
     "data": {
      "image/png": "[encoded data removed]",
      "text/plain": [
       "<Figure size 432x288 with 1 Axes>"
      ]
     },
     "metadata": {
      "needs_background": "light"
     },
     "output_type": "display_data"
    }
   ],
   "source": [
    "df_over['Tenant working'].value_counts().plot.bar()"
   ]
  },
  {
   "cell_type": "code",
   "execution_count": 60,
   "metadata": {},
   "outputs": [
    {
     "data": {
      "text/plain": [
       "Y    386\n",
       "N     59\n",
       "Name: Tenant working, dtype: int64"
      ]
     },
     "execution_count": 60,
     "metadata": {},
     "output_type": "execute_result"
    }
   ],
   "source": [
    "df_over[df_over['Arears history']=='Y']['Tenant working'].value_counts()"
   ]
  },
  {
   "cell_type": "code",
   "execution_count": 61,
   "metadata": {},
   "outputs": [
    {
     "data": {
      "text/plain": [
       "Y    445\n",
       "Name: Tenant working, dtype: int64"
      ]
     },
     "execution_count": 61,
     "metadata": {},
     "output_type": "execute_result"
    }
   ],
   "source": [
    "df_over[df_over['Arears history']=='N']['Tenant working'].value_counts()"
   ]
  },
  {
   "cell_type": "code",
   "execution_count": 62,
   "metadata": {},
   "outputs": [
    {
     "data": {
      "text/plain": [
       "<matplotlib.axes._subplots.AxesSubplot at 0x1ff28823320>"
      ]
     },
     "execution_count": 62,
     "metadata": {},
     "output_type": "execute_result"
    },
    {
     "data": {
      "image/png": "[encoded data removed]",
      "text/plain": [
       "<Figure size 432x288 with 1 Axes>"
      ]
     },
     "metadata": {
      "needs_background": "light"
     },
     "output_type": "display_data"
    }
   ],
   "source": [
    "df_over[df_over['Arears history']=='Y']['Tenant working'].value_counts().plot.bar()"
   ]
  },
  {
   "cell_type": "code",
   "execution_count": 63,
   "metadata": {},
   "outputs": [
    {
     "data": {
      "text/plain": [
       "<matplotlib.axes._subplots.AxesSubplot at 0x1ff2887a5c0>"
      ]
     },
     "execution_count": 63,
     "metadata": {},
     "output_type": "execute_result"
    },
    {
     "data": {
      "image/png": "[encoded data removed]",
      "text/plain": [
       "<Figure size 432x288 with 1 Axes>"
      ]
     },
     "metadata": {
      "needs_background": "light"
     },
     "output_type": "display_data"
    }
   ],
   "source": [
    "df_over[df_over['Arears history']=='N']['Tenant working'].value_counts().plot.bar()"
   ]
  },
  {
   "cell_type": "code",
   "execution_count": 64,
   "metadata": {},
   "outputs": [],
   "source": [
    "a=386/831*100\n",
    "b=59/59*100"
   ]
  },
  {
   "cell_type": "code",
   "execution_count": 65,
   "metadata": {},
   "outputs": [
    {
     "name": "stdout",
     "output_type": "stream",
     "text": [
      "Percentage of people with tenant working who got arears history :  46.450060168471715\n",
      "Percentage of people with tenant not working who got arears history :  100.0\n"
     ]
    }
   ],
   "source": [
    "print('Percentage of people with tenant working who got arears history : ',a)\n",
    "print('Percentage of people with tenant not working who got arears history : ',b)"
   ]
  },
  {
   "cell_type": "code",
   "execution_count": null,
   "metadata": {},
   "outputs": [],
   "source": [
    "There is a clear inference that people not working are likely to get arears history"
   ]
  },
  {
   "cell_type": "code",
   "execution_count": 66,
   "metadata": {},
   "outputs": [
    {
     "data": {
      "text/plain": [
       "0    445\n",
       "4    381\n",
       "3     24\n",
       "2     15\n",
       "5     13\n",
       "6     12\n",
       "Name: No of child tenants, dtype: int64"
      ]
     },
     "execution_count": 66,
     "metadata": {},
     "output_type": "execute_result"
    }
   ],
   "source": [
    "df_over['No of child tenants'].value_counts()"
   ]
  },
  {
   "cell_type": "code",
   "execution_count": 67,
   "metadata": {},
   "outputs": [
    {
     "data": {
      "text/plain": [
       "<matplotlib.axes._subplots.AxesSubplot at 0x1ff288c7f60>"
      ]
     },
     "execution_count": 67,
     "metadata": {},
     "output_type": "execute_result"
    },
    {
     "data": {
      "image/png": "[encoded data removed]",
      "text/plain": [
       "<Figure size 432x288 with 1 Axes>"
      ]
     },
     "metadata": {
      "needs_background": "light"
     },
     "output_type": "display_data"
    }
   ],
   "source": [
    "df_over['No of child tenants'].value_counts().plot.bar()"
   ]
  },
  {
   "cell_type": "code",
   "execution_count": 68,
   "metadata": {},
   "outputs": [
    {
     "data": {
      "text/plain": [
       "4    381\n",
       "3     24\n",
       "2     15\n",
       "5     13\n",
       "6     12\n",
       "Name: No of child tenants, dtype: int64"
      ]
     },
     "execution_count": 68,
     "metadata": {},
     "output_type": "execute_result"
    }
   ],
   "source": [
    "df_over[df_over['Arears history']=='Y']['No of child tenants'].value_counts()"
   ]
  },
  {
   "cell_type": "code",
   "execution_count": 69,
   "metadata": {},
   "outputs": [
    {
     "data": {
      "text/plain": [
       "0    445\n",
       "Name: No of child tenants, dtype: int64"
      ]
     },
     "execution_count": 69,
     "metadata": {},
     "output_type": "execute_result"
    }
   ],
   "source": [
    "df_over[df_over['Arears history']=='N']['No of child tenants'].value_counts()"
   ]
  },
  {
   "cell_type": "code",
   "execution_count": 70,
   "metadata": {},
   "outputs": [
    {
     "data": {
      "text/plain": [
       "<matplotlib.axes._subplots.AxesSubplot at 0x1ff2892e630>"
      ]
     },
     "execution_count": 70,
     "metadata": {},
     "output_type": "execute_result"
    },
    {
     "data": {
      "image/png": "[encoded data removed]",
      "text/plain": [
       "<Figure size 432x288 with 1 Axes>"
      ]
     },
     "metadata": {
      "needs_background": "light"
     },
     "output_type": "display_data"
    }
   ],
   "source": [
    "df_over[df_over['Arears history']=='Y']['No of child tenants'].value_counts().plot.bar()"
   ]
  },
  {
   "cell_type": "code",
   "execution_count": 71,
   "metadata": {},
   "outputs": [
    {
     "data": {
      "text/plain": [
       "<matplotlib.axes._subplots.AxesSubplot at 0x1ff2898c518>"
      ]
     },
     "execution_count": 71,
     "metadata": {},
     "output_type": "execute_result"
    },
    {
     "data": {
      "image/png": "[encoded data removed]",
      "text/plain": [
       "<Figure size 432x288 with 1 Axes>"
      ]
     },
     "metadata": {
      "needs_background": "light"
     },
     "output_type": "display_data"
    }
   ],
   "source": [
    "df_over[df_over['Arears history']=='N']['No of child tenants'].value_counts().plot.bar()"
   ]
  },
  {
   "cell_type": "code",
   "execution_count": 72,
   "metadata": {},
   "outputs": [],
   "source": [
    "a = 381/445*100\n",
    "b = 445/445*100"
   ]
  },
  {
   "cell_type": "code",
   "execution_count": 74,
   "metadata": {},
   "outputs": [
    {
     "name": "stdout",
     "output_type": "stream",
     "text": [
      "% of people who has got more than 2 depenent childs have arrears history: 100.0\n",
      "% of people who has got less than 2 depenent childs have arrears history: 85.61797752808988\n"
     ]
    }
   ],
   "source": [
    "print ('% of people who has got more than 2 depenent childs have arrears history:',b)\n",
    "print ('% of people who has got less than 2 depenent childs have arrears history:',a)"
   ]
  },
  {
   "cell_type": "code",
   "execution_count": 75,
   "metadata": {},
   "outputs": [
    {
     "data": {
      "text/plain": [
       "Rent amt               4.379907\n",
       "Tenant income          0.071531\n",
       "Occupants              0.285264\n",
       "No of adult tenants    4.328143\n",
       "No of child tenants    0.114377\n",
       "Curr balance          -0.229335\n",
       "Prev balance          -0.458352\n",
       "dtype: float64"
      ]
     },
     "execution_count": 75,
     "metadata": {},
     "output_type": "execute_result"
    }
   ],
   "source": [
    "df_over.skew()"
   ]
  },
  {
   "cell_type": "code",
   "execution_count": 76,
   "metadata": {},
   "outputs": [
    {
     "data": {
      "text/plain": [
       "array([[<matplotlib.axes._subplots.AxesSubplot object at 0x000001FF2897CEB8>,\n",
       "        <matplotlib.axes._subplots.AxesSubplot object at 0x000001FF28A13E48>,\n",
       "        <matplotlib.axes._subplots.AxesSubplot object at 0x000001FF28A454E0>],\n",
       "       [<matplotlib.axes._subplots.AxesSubplot object at 0x000001FF28A6CB70>,\n",
       "        <matplotlib.axes._subplots.AxesSubplot object at 0x000001FF28A9C240>,\n",
       "        <matplotlib.axes._subplots.AxesSubplot object at 0x000001FF28A9C278>],\n",
       "       [<matplotlib.axes._subplots.AxesSubplot object at 0x000001FF28AEBF60>,\n",
       "        <matplotlib.axes._subplots.AxesSubplot object at 0x000001FF28B1C630>,\n",
       "        <matplotlib.axes._subplots.AxesSubplot object at 0x000001FF2AFA04E0>]],\n",
       "      dtype=object)"
      ]
     },
     "execution_count": 76,
     "metadata": {},
     "output_type": "execute_result"
    },
    {
     "data": {
      "image/png": "[encoded data removed]",
      "text/plain": [
       "<Figure size 720x720 with 9 Axes>"
      ]
     },
     "metadata": {
      "needs_background": "light"
     },
     "output_type": "display_data"
    }
   ],
   "source": [
    "plt.rcParams['figure.figsize'] = [10, 10]\n",
    "df_over.hist(bins=50)"
   ]
  },
  {
   "cell_type": "code",
   "execution_count": 77,
   "metadata": {},
   "outputs": [
    {
     "data": {
      "text/plain": [
       "<matplotlib.axes._subplots.AxesSubplot at 0x1ff28bacc18>"
      ]
     },
     "execution_count": 77,
     "metadata": {},
     "output_type": "execute_result"
    },
    {
     "data": {
      "image/png": "[encoded data removed]",
      "text/plain": [
       "<Figure size 720x720 with 1 Axes>"
      ]
     },
     "metadata": {
      "needs_background": "light"
     },
     "output_type": "display_data"
    }
   ],
   "source": [
    "df_over.boxplot()"
   ]
  },
  {
   "cell_type": "code",
   "execution_count": 78,
   "metadata": {},
   "outputs": [
    {
     "data": {
      "text/plain": [
       "array([[<matplotlib.axes._subplots.AxesSubplot object at 0x000001FF289E9A20>,\n",
       "        <matplotlib.axes._subplots.AxesSubplot object at 0x000001FF293F6B38>,\n",
       "        <matplotlib.axes._subplots.AxesSubplot object at 0x000001FF29420E80>],\n",
       "       [<matplotlib.axes._subplots.AxesSubplot object at 0x000001FF294512B0>,\n",
       "        <matplotlib.axes._subplots.AxesSubplot object at 0x000001FF294796A0>,\n",
       "        <matplotlib.axes._subplots.AxesSubplot object at 0x000001FF294796D8>],\n",
       "       [<matplotlib.axes._subplots.AxesSubplot object at 0x000001FF294CDE80>,\n",
       "        <matplotlib.axes._subplots.AxesSubplot object at 0x000001FF294FF2B0>,\n",
       "        <matplotlib.axes._subplots.AxesSubplot object at 0x000001FF29528940>]],\n",
       "      dtype=object)"
      ]
     },
     "execution_count": 78,
     "metadata": {},
     "output_type": "execute_result"
    },
    {
     "data": {
      "image/png": "[encoded data removed]",
      "text/plain": [
       "<Figure size 1440x1440 with 9 Axes>"
      ]
     },
     "metadata": {
      "needs_background": "light"
     },
     "output_type": "display_data"
    }
   ],
   "source": [
    "plt.rcParams['figure.figsize'] = [20, 20]\n",
    "df_over.boxplot(by='Tenant working')"
   ]
  },
  {
   "cell_type": "code",
   "execution_count": 79,
   "metadata": {},
   "outputs": [
    {
     "data": {
      "text/plain": [
       "array([[<matplotlib.axes._subplots.AxesSubplot object at 0x000001FF29148BE0>,\n",
       "        <matplotlib.axes._subplots.AxesSubplot object at 0x000001FF299DEF28>],\n",
       "       [<matplotlib.axes._subplots.AxesSubplot object at 0x000001FF29A0C2E8>,\n",
       "        <matplotlib.axes._subplots.AxesSubplot object at 0x000001FF29A366D8>],\n",
       "       [<matplotlib.axes._subplots.AxesSubplot object at 0x000001FF29A5DAC8>,\n",
       "        <matplotlib.axes._subplots.AxesSubplot object at 0x000001FF29A5DB00>]],\n",
       "      dtype=object)"
      ]
     },
     "execution_count": 79,
     "metadata": {},
     "output_type": "execute_result"
    },
    {
     "data": {
      "image/png": "[encoded data removed]",
      "text/plain": [
       "<Figure size 1440x1440 with 6 Axes>"
      ]
     },
     "metadata": {
      "needs_background": "light"
     },
     "output_type": "display_data"
    }
   ],
   "source": [
    "df_over.boxplot(by='No of child tenants')"
   ]
  },
  {
   "cell_type": "code",
   "execution_count": 80,
   "metadata": {},
   "outputs": [
    {
     "data": {
      "text/plain": [
       "array([[<matplotlib.axes._subplots.AxesSubplot object at 0x000001FF2ABC2C18>,\n",
       "        <matplotlib.axes._subplots.AxesSubplot object at 0x000001FF2ABCE358>,\n",
       "        <matplotlib.axes._subplots.AxesSubplot object at 0x000001FF2ABEAC18>],\n",
       "       [<matplotlib.axes._subplots.AxesSubplot object at 0x000001FF2AD8B048>,\n",
       "        <matplotlib.axes._subplots.AxesSubplot object at 0x000001FF2AE35438>,\n",
       "        <matplotlib.axes._subplots.AxesSubplot object at 0x000001FF2AE35470>],\n",
       "       [<matplotlib.axes._subplots.AxesSubplot object at 0x000001FF2AE85C18>,\n",
       "        <matplotlib.axes._subplots.AxesSubplot object at 0x000001FF2AEB9048>,\n",
       "        <matplotlib.axes._subplots.AxesSubplot object at 0x000001FF2AEDF6D8>]],\n",
       "      dtype=object)"
      ]
     },
     "execution_count": 80,
     "metadata": {},
     "output_type": "execute_result"
    },
    {
     "data": {
      "image/png": "[encoded data removed]",
      "text/plain": [
       "<Figure size 1440x1440 with 9 Axes>"
      ]
     },
     "metadata": {
      "needs_background": "light"
     },
     "output_type": "display_data"
    }
   ],
   "source": [
    "df_over.boxplot(by='Arears reason')"
   ]
  },
  {
   "cell_type": "code",
   "execution_count": 81,
   "metadata": {},
   "outputs": [
    {
     "data": {
      "text/plain": [
       "<matplotlib.axes._subplots.AxesSubplot at 0x1ff2ccd9cc0>"
      ]
     },
     "execution_count": 81,
     "metadata": {},
     "output_type": "execute_result"
    },
    {
     "data": {
      "image/png": "[encoded data removed]",
      "text/plain": [
       "<Figure size 360x360 with 1 Axes>"
      ]
     },
     "metadata": {
      "needs_background": "light"
     },
     "output_type": "display_data"
    }
   ],
   "source": [
    "plt.rcParams['figure.figsize'] = [5, 5]\n",
    "df_over['Occupants'].hist()"
   ]
  },
  {
   "cell_type": "code",
   "execution_count": 82,
   "metadata": {},
   "outputs": [],
   "source": [
    "df_over['Occupants_log'] = np.log(df_over['Occupants'])\n",
    "df_under['Occupants_log'] = np.log(df_under['Occupants'])\n",
    "df['Occupants_log'] = np.log(df['Occupants'])"
   ]
  },
  {
   "cell_type": "code",
   "execution_count": 83,
   "metadata": {},
   "outputs": [
    {
     "name": "stdout",
     "output_type": "stream",
     "text": [
      "Skewness 0.049178405580271305\n"
     ]
    },
    {
     "data": {
      "image/png": "[encoded data removed]",
      "text/plain": [
       "<Figure size 360x360 with 1 Axes>"
      ]
     },
     "metadata": {
      "needs_background": "light"
     },
     "output_type": "display_data"
    }
   ],
   "source": [
    "df_over['Occupants_log'].hist()\n",
    "print('Skewness',df_over['Occupants_log'].skew())"
   ]
  },
  {
   "cell_type": "code",
   "execution_count": 84,
   "metadata": {},
   "outputs": [
    {
     "data": {
      "text/html": [
       "<div>\n",
       "<style scoped>\n",
       "    .dataframe tbody tr th:only-of-type {\n",
       "        vertical-align: middle;\n",
       "    }\n",
       "\n",
       "    .dataframe tbody tr th {\n",
       "        vertical-align: top;\n",
       "    }\n",
       "\n",
       "    .dataframe thead th {\n",
       "        text-align: right;\n",
       "    }\n",
       "</style>\n",
       "<table border=\"1\" class=\"dataframe\">\n",
       "  <thead>\n",
       "    <tr style=\"text-align: right;\">\n",
       "      <th></th>\n",
       "      <th>Rent group</th>\n",
       "      <th>Rent amt</th>\n",
       "      <th>Tenant income</th>\n",
       "      <th>Tenant working</th>\n",
       "      <th>Occupants</th>\n",
       "      <th>No of adult tenants</th>\n",
       "      <th>No of child tenants</th>\n",
       "      <th>Arears history</th>\n",
       "      <th>Arears reason</th>\n",
       "      <th>Reported date</th>\n",
       "      <th>Curr balance</th>\n",
       "      <th>Prev balance</th>\n",
       "      <th>Occupants_log</th>\n",
       "    </tr>\n",
       "  </thead>\n",
       "  <tbody>\n",
       "    <tr>\n",
       "      <th>0</th>\n",
       "      <td>W</td>\n",
       "      <td>125</td>\n",
       "      <td>10.0</td>\n",
       "      <td>N</td>\n",
       "      <td>4</td>\n",
       "      <td>2</td>\n",
       "      <td>4</td>\n",
       "      <td>Y</td>\n",
       "      <td>Divorced</td>\n",
       "      <td>3/15/2010</td>\n",
       "      <td>100.0</td>\n",
       "      <td>20.0</td>\n",
       "      <td>1.386294</td>\n",
       "    </tr>\n",
       "    <tr>\n",
       "      <th>1</th>\n",
       "      <td>M</td>\n",
       "      <td>500</td>\n",
       "      <td>500.0</td>\n",
       "      <td>Y</td>\n",
       "      <td>5</td>\n",
       "      <td>1</td>\n",
       "      <td>4</td>\n",
       "      <td>Y</td>\n",
       "      <td>Income shortage</td>\n",
       "      <td>28/2/2011</td>\n",
       "      <td>400.0</td>\n",
       "      <td>200.0</td>\n",
       "      <td>1.609438</td>\n",
       "    </tr>\n",
       "    <tr>\n",
       "      <th>2</th>\n",
       "      <td>B</td>\n",
       "      <td>250</td>\n",
       "      <td>500.0</td>\n",
       "      <td>Y</td>\n",
       "      <td>8</td>\n",
       "      <td>2</td>\n",
       "      <td>6</td>\n",
       "      <td>Y</td>\n",
       "      <td>Lost job</td>\n",
       "      <td>15/01/2010</td>\n",
       "      <td>200.0</td>\n",
       "      <td>100.0</td>\n",
       "      <td>2.079442</td>\n",
       "    </tr>\n",
       "    <tr>\n",
       "      <th>4</th>\n",
       "      <td>M</td>\n",
       "      <td>200</td>\n",
       "      <td>300.0</td>\n",
       "      <td>Y</td>\n",
       "      <td>7</td>\n",
       "      <td>4</td>\n",
       "      <td>3</td>\n",
       "      <td>Y</td>\n",
       "      <td>Unknown</td>\n",
       "      <td>16/05/2011</td>\n",
       "      <td>250.0</td>\n",
       "      <td>155.0</td>\n",
       "      <td>1.945910</td>\n",
       "    </tr>\n",
       "    <tr>\n",
       "      <th>5</th>\n",
       "      <td>D</td>\n",
       "      <td>63</td>\n",
       "      <td>500.0</td>\n",
       "      <td>N</td>\n",
       "      <td>7</td>\n",
       "      <td>5</td>\n",
       "      <td>2</td>\n",
       "      <td>Y</td>\n",
       "      <td>Illness</td>\n",
       "      <td>29/03/2010</td>\n",
       "      <td>150.0</td>\n",
       "      <td>90.0</td>\n",
       "      <td>1.945910</td>\n",
       "    </tr>\n",
       "  </tbody>\n",
       "</table>\n",
       "</div>"
      ],
      "text/plain": [
       "  Rent group  Rent amt  Tenant income Tenant working  Occupants  \\\n",
       "0          W       125           10.0              N          4   \n",
       "1          M       500          500.0              Y          5   \n",
       "2          B       250          500.0              Y          8   \n",
       "4          M       200          300.0              Y          7   \n",
       "5          D        63          500.0              N          7   \n",
       "\n",
       "   No of adult tenants  No of child tenants Arears history    Arears reason  \\\n",
       "0                    2                    4              Y         Divorced   \n",
       "1                    1                    4              Y  Income shortage   \n",
       "2                    2                    6              Y         Lost job   \n",
       "4                    4                    3              Y          Unknown   \n",
       "5                    5                    2              Y          Illness   \n",
       "\n",
       "  Reported date  Curr balance  Prev balance  Occupants_log  \n",
       "0     3/15/2010         100.0          20.0       1.386294  \n",
       "1     28/2/2011         400.0         200.0       1.609438  \n",
       "2    15/01/2010         200.0         100.0       2.079442  \n",
       "4    16/05/2011         250.0         155.0       1.945910  \n",
       "5    29/03/2010         150.0          90.0       1.945910  "
      ]
     },
     "execution_count": 84,
     "metadata": {},
     "output_type": "execute_result"
    }
   ],
   "source": [
    "df_over.head()"
   ]
  },
  {
   "cell_type": "code",
   "execution_count": 99,
   "metadata": {},
   "outputs": [],
   "source": [
    "cat_vars=['Rent group', 'Rent amt', 'Tenant working', 'Occupants',\n",
    "       'Arears reason','Arears history', 'Reported date','Curr balance', 'Prev balance']\n",
    "from sklearn.preprocessing import LabelEncoder #needed for label encoding the categorical variables\n",
    "encoder = LabelEncoder()\n",
    "for i in cat_vars:\n",
    "    df_over[i]=encoder.fit_transform(df_over[i])\n",
    "for i in cat_vars:\n",
    "    df_under[i]=encoder.fit_transform(df_under[i])\n",
    "for i in cat_vars:\n",
    "    df[i]=encoder.fit_transform(df[i])"
   ]
  },
  {
   "cell_type": "code",
   "execution_count": 87,
   "metadata": {},
   "outputs": [
    {
     "name": "stdout",
     "output_type": "stream",
     "text": [
      "     Location ref  Rent group  Rent amt  Tenant income  Tenant working  \\\n",
      "406       1007028           1         2           23.0               0   \n",
      "153        100808           0         1            0.0               1   \n",
      "426      10070356           1         2           20.0               0   \n",
      "170        100808           0         1            0.0               1   \n",
      "25         100801           0         1            0.0               1   \n",
      "\n",
      "     Occupants  No of adult tenants  No of child tenants  Arears history  \\\n",
      "406          2                    3                    2               1   \n",
      "153          1                    1                    1               1   \n",
      "426          2                    3                    2               1   \n",
      "170          1                    1                    1               1   \n",
      "25           1                    1                    1               1   \n",
      "\n",
      "      Arears reason Reported date  Curr balance  Prev balance  Occupants_log  \n",
      "406        Lost job    15/09/2010             1             1       2.079442  \n",
      "153  Heavy snowfall    12/15/2010             3             4       1.609438  \n",
      "426        Lost job    15/02/2011             4             2       2.079442  \n",
      "170  Heavy snowfall    12/15/2010             3             4       1.609438  \n",
      "25   Heavy snowfall    12/15/2010             3             4       1.609438  \n",
      "   Location ref  Rent group  Rent amt  Tenant income  Tenant working  \\\n",
      "0          1001           3         8           10.0               0   \n",
      "1          1002           2        18          500.0               1   \n",
      "2        100300           0        15          500.0               1   \n",
      "3          1004           1         0          600.0               1   \n",
      "4          1005           2         9          300.0               1   \n",
      "\n",
      "   Occupants  No of adult tenants  No of child tenants  Arears history  \\\n",
      "0          1                    2                    3               1   \n",
      "1          2                    1                    3               1   \n",
      "2          4                    2                    5               1   \n",
      "3          0                    1                    0               0   \n",
      "4          3                    4                    2               1   \n",
      "\n",
      "     Arears reason Reported date  Curr balance  Prev balance  Occupants_log  \n",
      "0         Divorced     3/15/2010             1             1       1.386294  \n",
      "1  Income shortage     28/2/2011            14            16       1.609438  \n",
      "2         Lost job    15/01/2010             6             8       2.079442  \n",
      "3   Heavy snowfall    12/15/2010             0             0       0.000000  \n",
      "4          Unknown    16/05/2011             9            13       1.945910  \n"
     ]
    }
   ],
   "source": [
    "df_over.head()\n",
    "print(df_under.head())\n",
    "print(df.head())"
   ]
  },
  {
   "cell_type": "code",
   "execution_count": 100,
   "metadata": {},
   "outputs": [
    {
     "data": {
      "text/plain": [
       "Index(['Rent group', 'Rent amt', 'Tenant income', 'Tenant working',\n",
       "       'Occupants', 'No of adult tenants', 'No of child tenants',\n",
       "       'Arears history', 'Arears reason', 'Reported date', 'Curr balance',\n",
       "       'Prev balance', 'Occupants_log'],\n",
       "      dtype='object')"
      ]
     },
     "execution_count": 100,
     "metadata": {},
     "output_type": "execute_result"
    }
   ],
   "source": [
    "df_over.columns"
   ]
  },
  {
   "cell_type": "code",
   "execution_count": 102,
   "metadata": {},
   "outputs": [],
   "source": [
    "x_over=df_over[['Rent group', 'Rent amt', 'Tenant income', 'Tenant working', 'Occupants_log','Arears reason','Reported date',\n",
    "       'Curr balance', 'Prev balance']]\n",
    "x_under=df_under[['Rent group', 'Rent amt', 'Tenant income', 'Tenant working', 'Occupants_log','Arears reason','Reported date',\n",
    "       'Curr balance', 'Prev balance']]\n",
    "y_over=df_over['Arears history']\n",
    "y_under=df_under['Arears history']\n",
    "x=df[['Rent group', 'Rent amt', 'Tenant income', 'Tenant working', 'Occupants_log','Arears reason','Reported date',\n",
    "       'Curr balance', 'Prev balance']]\n",
    "y=df['Arears history']"
   ]
  },
  {
   "cell_type": "code",
   "execution_count": 103,
   "metadata": {},
   "outputs": [],
   "source": [
    "from sklearn.model_selection import train_test_split\n",
    "x_over_train,x_over_test,y_over_train,y_over_test = train_test_split(x_over,y_over,test_size=0.2,random_state=3)\n",
    "x_under_train,x_under_test,y_under_train,y_under_test = train_test_split(x_under,y_under,test_size=0.2,random_state=3)"
   ]
  },
  {
   "cell_type": "code",
   "execution_count": 104,
   "metadata": {},
   "outputs": [],
   "source": [
    "x_train,x_test,y_train,y_test = train_test_split(x,y,test_size=0.2,random_state=3)"
   ]
  },
  {
   "cell_type": "code",
   "execution_count": 105,
   "metadata": {},
   "outputs": [
    {
     "name": "stdout",
     "output_type": "stream",
     "text": [
      "Accuracy Score is : 1.0\n",
      "Classification_Report\n",
      "              precision    recall  f1-score   support\n",
      "\n",
      "          0       1.00      1.00      1.00        78\n",
      "          1       1.00      1.00      1.00       100\n",
      "\n",
      "avg / total       1.00      1.00      1.00       178\n",
      "\n",
      "confusion_matrix\n",
      " [[ 78   0]\n",
      " [  0 100]]\n"
     ]
    }
   ],
   "source": [
    "from sklearn.ensemble import RandomForestClassifier\n",
    "from sklearn.metrics import accuracy_score,classification_report,confusion_matrix\n",
    "model=RandomForestClassifier(n_estimators=15,random_state=3)\n",
    "model.fit(x_over_train,y_over_train)\n",
    "y_over_pred=model.predict(x_over_test)\n",
    "print(\"Accuracy Score is :\",accuracy_score(y_over_pred,y_over_test))\n",
    "print(\"Classification_Report\\n\",classification_report(y_over_pred,y_over_test))\n",
    "print(\"confusion_matrix\\n\",confusion_matrix(y_over_pred,y_over_test))"
   ]
  },
  {
   "cell_type": "code",
   "execution_count": 106,
   "metadata": {},
   "outputs": [
    {
     "name": "stdout",
     "output_type": "stream",
     "text": [
      "Accuracy Score is : 1.0\n",
      "Classification_Report\n",
      "              precision    recall  f1-score   support\n",
      "\n",
      "          0       1.00      1.00      1.00         2\n",
      "          1       1.00      1.00      1.00         2\n",
      "\n",
      "avg / total       1.00      1.00      1.00         4\n",
      "\n",
      "confusion_matrix\n",
      " [[2 0]\n",
      " [0 2]]\n"
     ]
    }
   ],
   "source": [
    "model=RandomForestClassifier(n_estimators=15,random_state=3)\n",
    "model.fit(x_under_train,y_under_train)\n",
    "y_under_pred=model.predict(x_under_test)\n",
    "print(\"Accuracy Score is :\",accuracy_score(y_under_pred,y_under_test))\n",
    "print(\"Classification_Report\\n\",classification_report(y_under_pred,y_under_test))\n",
    "print(\"confusion_matrix\\n\",confusion_matrix(y_under_pred,y_under_test))"
   ]
  },
  {
   "cell_type": "code",
   "execution_count": 107,
   "metadata": {},
   "outputs": [
    {
     "name": "stdout",
     "output_type": "stream",
     "text": [
      "Accuracy Score is : 1.0\n",
      "Classification_Report\n",
      "              precision    recall  f1-score   support\n",
      "\n",
      "          1       1.00      1.00      1.00        91\n",
      "\n",
      "avg / total       1.00      1.00      1.00        91\n",
      "\n",
      "confusion_matrix\n",
      " [[91]]\n"
     ]
    }
   ],
   "source": [
    "model=RandomForestClassifier(n_estimators=15,random_state=3)\n",
    "model.fit(x_train,y_train)\n",
    "y_pred=model.predict(x_test)\n",
    "print(\"Accuracy Score is :\",accuracy_score(y_pred,y_test))\n",
    "print(\"Classification_Report\\n\",classification_report(y_pred,y_test))\n",
    "print(\"confusion_matrix\\n\",confusion_matrix(y_pred,y_test))"
   ]
  },
  {
   "cell_type": "code",
   "execution_count": 108,
   "metadata": {},
   "outputs": [
    {
     "name": "stdout",
     "output_type": "stream",
     "text": [
      "Accuracy Score is : 1.0\n",
      "Classification_Report\n",
      "              precision    recall  f1-score   support\n",
      "\n",
      "          1       1.00      1.00      1.00        91\n",
      "\n",
      "avg / total       1.00      1.00      1.00        91\n",
      "\n",
      "confusion_matrix\n",
      " [[91]]\n"
     ]
    }
   ],
   "source": [
    "model=RandomForestClassifier(n_estimators=15,random_state=3,class_weight=\"balanced\")\n",
    "model.fit(x_train,y_train)\n",
    "y_pred=model.predict(x_test)\n",
    "print(\"Accuracy Score is :\",accuracy_score(y_pred,y_test))\n",
    "print(\"Classification_Report\\n\",classification_report(y_pred,y_test))\n",
    "print(\"confusion_matrix\\n\",confusion_matrix(y_pred,y_test))"
   ]
  },
  {
   "cell_type": "code",
   "execution_count": 109,
   "metadata": {},
   "outputs": [
    {
     "name": "stdout",
     "output_type": "stream",
     "text": [
      "Accuracy Score is : 0.9943820224719101\n",
      "Classification_Report\n",
      "              precision    recall  f1-score   support\n",
      "\n",
      "          0       1.00      0.99      0.99        79\n",
      "          1       0.99      1.00      0.99        99\n",
      "\n",
      "avg / total       0.99      0.99      0.99       178\n",
      "\n",
      "confusion_matrix\n",
      " [[78  1]\n",
      " [ 0 99]]\n"
     ]
    }
   ],
   "source": [
    "from sklearn.ensemble import GradientBoostingClassifier\n",
    "model = GradientBoostingClassifier(random_state=3)\n",
    "model.fit(x_over_train,y_over_train)\n",
    "y_over_pred=model.predict(x_over_test)\n",
    "print(\"Accuracy Score is :\",accuracy_score(y_over_pred,y_over_test))\n",
    "print(\"Classification_Report\\n\",classification_report(y_over_pred,y_over_test))\n",
    "print(\"confusion_matrix\\n\",confusion_matrix(y_over_pred,y_over_test))"
   ]
  },
  {
   "cell_type": "code",
   "execution_count": 110,
   "metadata": {},
   "outputs": [
    {
     "name": "stdout",
     "output_type": "stream",
     "text": [
      "Accuracy Score is : 1.0\n",
      "Classification_Report\n",
      "              precision    recall  f1-score   support\n",
      "\n",
      "          0       1.00      1.00      1.00         2\n",
      "          1       1.00      1.00      1.00         2\n",
      "\n",
      "avg / total       1.00      1.00      1.00         4\n",
      "\n",
      "confusion_matrix\n",
      " [[2 0]\n",
      " [0 2]]\n"
     ]
    }
   ],
   "source": [
    "model.fit(x_under_train,y_under_train)\n",
    "y_under_pred=model.predict(x_under_test)\n",
    "print(\"Accuracy Score is :\",accuracy_score(y_under_pred,y_under_test))\n",
    "print(\"Classification_Report\\n\",classification_report(y_under_pred,y_under_test))\n",
    "print(\"confusion_matrix\\n\",confusion_matrix(y_under_pred,y_under_test))"
   ]
  },
  {
   "cell_type": "code",
   "execution_count": 111,
   "metadata": {},
   "outputs": [
    {
     "name": "stdout",
     "output_type": "stream",
     "text": [
      "Accuracy Score is : 1.0\n",
      "Classification_Report\n",
      "              precision    recall  f1-score   support\n",
      "\n",
      "          1       1.00      1.00      1.00        91\n",
      "\n",
      "avg / total       1.00      1.00      1.00        91\n",
      "\n",
      "confusion_matrix\n",
      " [[91]]\n"
     ]
    }
   ],
   "source": [
    "model.fit(x_train,y_train)\n",
    "y_pred=model.predict(x_test)\n",
    "print(\"Accuracy Score is :\",accuracy_score(y_pred,y_test))\n",
    "print(\"Classification_Report\\n\",classification_report(y_pred,y_test))\n",
    "print(\"confusion_matrix\\n\",confusion_matrix(y_pred,y_test))"
   ]
  },
  {
   "cell_type": "code",
   "execution_count": 112,
   "metadata": {},
   "outputs": [
    {
     "name": "stdout",
     "output_type": "stream",
     "text": [
      "Accuracy Score is : 0.9943820224719101\n",
      "Classification_Report\n",
      "              precision    recall  f1-score   support\n",
      "\n",
      "          0       1.00      0.99      0.99        79\n",
      "          1       0.99      1.00      0.99        99\n",
      "\n",
      "avg / total       0.99      0.99      0.99       178\n",
      "\n",
      "confusion_matrix\n",
      " [[78  1]\n",
      " [ 0 99]]\n"
     ]
    }
   ],
   "source": [
    "from sklearn.ensemble import GradientBoostingClassifier\n",
    "model = GradientBoostingClassifier(random_state=3)\n",
    "model.fit(x_over_train,y_over_train)\n",
    "y_over_pred=model.predict(x_over_test)\n",
    "print(\"Accuracy Score is :\",accuracy_score(y_over_pred,y_over_test))\n",
    "print(\"Classification_Report\\n\",classification_report(y_over_pred,y_over_test))\n",
    "print(\"confusion_matrix\\n\",confusion_matrix(y_over_pred,y_over_test))"
   ]
  },
  {
   "cell_type": "code",
   "execution_count": null,
   "metadata": {},
   "outputs": [],
   "source": []
  }
 ],
 "metadata": {
  "kernelspec": {
   "display_name": "Python 3",
   "language": "python",
   "name": "python3"
  },
  "language_info": {
   "codemirror_mode": {
    "name": "ipython",
    "version": 3
   },
   "file_extension": ".py",
   "mimetype": "text/x-python",
   "name": "python",
   "nbconvert_exporter": "python",
   "pygments_lexer": "ipython3",
   "version": "3.7.0"
  }
 },
 "nbformat": 4,
 "nbformat_minor": 2
}
